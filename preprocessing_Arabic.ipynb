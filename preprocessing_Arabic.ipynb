{
  "nbformat": 4,
  "nbformat_minor": 0,
  "metadata": {
    "colab": {
      "provenance": []
    },
    "kernelspec": {
      "name": "python3",
      "display_name": "Python 3"
    },
    "language_info": {
      "name": "python"
    }
  },
  "cells": [
    {
      "cell_type": "code",
      "execution_count": 104,
      "metadata": {
        "colab": {
          "base_uri": "https://localhost:8080/"
        },
        "id": "01G-MCMrH4AO",
        "outputId": "e54efc65-cdec-4740-d7fa-120519f81e8f"
      },
      "outputs": [
        {
          "output_type": "stream",
          "name": "stderr",
          "text": [
            "[nltk_data] Downloading package punkt to /root/nltk_data...\n",
            "[nltk_data]   Package punkt is already up-to-date!\n"
          ]
        },
        {
          "output_type": "execute_result",
          "data": {
            "text/plain": [
              "True"
            ]
          },
          "metadata": {},
          "execution_count": 104
        }
      ],
      "source": [
        "import numpy as np\n",
        "import pandas as pd\n",
        "import string , spacy\n",
        "from sklearn.feature_extraction.text import TfidfVectorizer\n",
        "from sklearn.model_selection import train_test_split\n",
        "import nltk\n",
        "nltk.download('punkt')\n"
      ]
    },
    {
      "cell_type": "code",
      "source": [
        "#load data\n",
        "df = pd.read_csv('ar_reviews_100k.tsv', sep=('\\t'))\n",
        "df.head()\n"
      ],
      "metadata": {
        "id": "xcSb_ORWJVNy",
        "colab": {
          "base_uri": "https://localhost:8080/",
          "height": 206
        },
        "outputId": "872824fe-510e-40c6-cd04-2b1b1bcc69f7"
      },
      "execution_count": 105,
      "outputs": [
        {
          "output_type": "execute_result",
          "data": {
            "text/plain": [
              "      label                                               text\n",
              "0  Positive  ممتاز نوعا ما . النظافة والموقع والتجهيز والشا...\n",
              "1  Positive  أحد أسباب نجاح الإمارات أن كل شخص في هذه الدول...\n",
              "2  Positive  هادفة .. وقوية. تنقلك من صخب شوارع القاهرة الى...\n",
              "3  Positive  خلصنا .. مبدئيا اللي مستني ابهار زي الفيل الاز...\n",
              "4  Positive  ياسات جلوريا جزء لا يتجزأ من دبي . فندق متكامل..."
            ],
            "text/html": [
              "\n",
              "  <div id=\"df-5e78d3cd-93c8-4f01-9fe5-4212d94e575f\">\n",
              "    <div class=\"colab-df-container\">\n",
              "      <div>\n",
              "<style scoped>\n",
              "    .dataframe tbody tr th:only-of-type {\n",
              "        vertical-align: middle;\n",
              "    }\n",
              "\n",
              "    .dataframe tbody tr th {\n",
              "        vertical-align: top;\n",
              "    }\n",
              "\n",
              "    .dataframe thead th {\n",
              "        text-align: right;\n",
              "    }\n",
              "</style>\n",
              "<table border=\"1\" class=\"dataframe\">\n",
              "  <thead>\n",
              "    <tr style=\"text-align: right;\">\n",
              "      <th></th>\n",
              "      <th>label</th>\n",
              "      <th>text</th>\n",
              "    </tr>\n",
              "  </thead>\n",
              "  <tbody>\n",
              "    <tr>\n",
              "      <th>0</th>\n",
              "      <td>Positive</td>\n",
              "      <td>ممتاز نوعا ما . النظافة والموقع والتجهيز والشا...</td>\n",
              "    </tr>\n",
              "    <tr>\n",
              "      <th>1</th>\n",
              "      <td>Positive</td>\n",
              "      <td>أحد أسباب نجاح الإمارات أن كل شخص في هذه الدول...</td>\n",
              "    </tr>\n",
              "    <tr>\n",
              "      <th>2</th>\n",
              "      <td>Positive</td>\n",
              "      <td>هادفة .. وقوية. تنقلك من صخب شوارع القاهرة الى...</td>\n",
              "    </tr>\n",
              "    <tr>\n",
              "      <th>3</th>\n",
              "      <td>Positive</td>\n",
              "      <td>خلصنا .. مبدئيا اللي مستني ابهار زي الفيل الاز...</td>\n",
              "    </tr>\n",
              "    <tr>\n",
              "      <th>4</th>\n",
              "      <td>Positive</td>\n",
              "      <td>ياسات جلوريا جزء لا يتجزأ من دبي . فندق متكامل...</td>\n",
              "    </tr>\n",
              "  </tbody>\n",
              "</table>\n",
              "</div>\n",
              "      <button class=\"colab-df-convert\" onclick=\"convertToInteractive('df-5e78d3cd-93c8-4f01-9fe5-4212d94e575f')\"\n",
              "              title=\"Convert this dataframe to an interactive table.\"\n",
              "              style=\"display:none;\">\n",
              "        \n",
              "  <svg xmlns=\"http://www.w3.org/2000/svg\" height=\"24px\"viewBox=\"0 0 24 24\"\n",
              "       width=\"24px\">\n",
              "    <path d=\"M0 0h24v24H0V0z\" fill=\"none\"/>\n",
              "    <path d=\"M18.56 5.44l.94 2.06.94-2.06 2.06-.94-2.06-.94-.94-2.06-.94 2.06-2.06.94zm-11 1L8.5 8.5l.94-2.06 2.06-.94-2.06-.94L8.5 2.5l-.94 2.06-2.06.94zm10 10l.94 2.06.94-2.06 2.06-.94-2.06-.94-.94-2.06-.94 2.06-2.06.94z\"/><path d=\"M17.41 7.96l-1.37-1.37c-.4-.4-.92-.59-1.43-.59-.52 0-1.04.2-1.43.59L10.3 9.45l-7.72 7.72c-.78.78-.78 2.05 0 2.83L4 21.41c.39.39.9.59 1.41.59.51 0 1.02-.2 1.41-.59l7.78-7.78 2.81-2.81c.8-.78.8-2.07 0-2.86zM5.41 20L4 18.59l7.72-7.72 1.47 1.35L5.41 20z\"/>\n",
              "  </svg>\n",
              "      </button>\n",
              "      \n",
              "  <style>\n",
              "    .colab-df-container {\n",
              "      display:flex;\n",
              "      flex-wrap:wrap;\n",
              "      gap: 12px;\n",
              "    }\n",
              "\n",
              "    .colab-df-convert {\n",
              "      background-color: #E8F0FE;\n",
              "      border: none;\n",
              "      border-radius: 50%;\n",
              "      cursor: pointer;\n",
              "      display: none;\n",
              "      fill: #1967D2;\n",
              "      height: 32px;\n",
              "      padding: 0 0 0 0;\n",
              "      width: 32px;\n",
              "    }\n",
              "\n",
              "    .colab-df-convert:hover {\n",
              "      background-color: #E2EBFA;\n",
              "      box-shadow: 0px 1px 2px rgba(60, 64, 67, 0.3), 0px 1px 3px 1px rgba(60, 64, 67, 0.15);\n",
              "      fill: #174EA6;\n",
              "    }\n",
              "\n",
              "    [theme=dark] .colab-df-convert {\n",
              "      background-color: #3B4455;\n",
              "      fill: #D2E3FC;\n",
              "    }\n",
              "\n",
              "    [theme=dark] .colab-df-convert:hover {\n",
              "      background-color: #434B5C;\n",
              "      box-shadow: 0px 1px 3px 1px rgba(0, 0, 0, 0.15);\n",
              "      filter: drop-shadow(0px 1px 2px rgba(0, 0, 0, 0.3));\n",
              "      fill: #FFFFFF;\n",
              "    }\n",
              "  </style>\n",
              "\n",
              "      <script>\n",
              "        const buttonEl =\n",
              "          document.querySelector('#df-5e78d3cd-93c8-4f01-9fe5-4212d94e575f button.colab-df-convert');\n",
              "        buttonEl.style.display =\n",
              "          google.colab.kernel.accessAllowed ? 'block' : 'none';\n",
              "\n",
              "        async function convertToInteractive(key) {\n",
              "          const element = document.querySelector('#df-5e78d3cd-93c8-4f01-9fe5-4212d94e575f');\n",
              "          const dataTable =\n",
              "            await google.colab.kernel.invokeFunction('convertToInteractive',\n",
              "                                                     [key], {});\n",
              "          if (!dataTable) return;\n",
              "\n",
              "          const docLinkHtml = 'Like what you see? Visit the ' +\n",
              "            '<a target=\"_blank\" href=https://colab.research.google.com/notebooks/data_table.ipynb>data table notebook</a>'\n",
              "            + ' to learn more about interactive tables.';\n",
              "          element.innerHTML = '';\n",
              "          dataTable['output_type'] = 'display_data';\n",
              "          await google.colab.output.renderOutput(dataTable, element);\n",
              "          const docLink = document.createElement('div');\n",
              "          docLink.innerHTML = docLinkHtml;\n",
              "          element.appendChild(docLink);\n",
              "        }\n",
              "      </script>\n",
              "    </div>\n",
              "  </div>\n",
              "  "
            ]
          },
          "metadata": {},
          "execution_count": 105
        }
      ]
    },
    {
      "cell_type": "code",
      "source": [
        "print(\"shape before any preprocessing \" , df.shape)"
      ],
      "metadata": {
        "colab": {
          "base_uri": "https://localhost:8080/"
        },
        "id": "LZ_cH5o7Y7Ij",
        "outputId": "34c3fddd-177d-4535-f4d1-16312585472f"
      },
      "execution_count": 106,
      "outputs": [
        {
          "output_type": "stream",
          "name": "stdout",
          "text": [
            "shape before any preprocessing  (99999, 2)\n"
          ]
        }
      ]
    },
    {
      "cell_type": "code",
      "source": [
        "#Drop missing rows\n",
        "df = df.dropna()"
      ],
      "metadata": {
        "id": "jMkFAgf3YRV6"
      },
      "execution_count": 107,
      "outputs": []
    },
    {
      "cell_type": "code",
      "source": [
        "df.isnull()   #check missing values in each row"
      ],
      "metadata": {
        "colab": {
          "base_uri": "https://localhost:8080/",
          "height": 424
        },
        "id": "BQCRt3Vjderm",
        "outputId": "fcf6d2b2-b866-41d7-ec6a-2405f9e01dc0"
      },
      "execution_count": 108,
      "outputs": [
        {
          "output_type": "execute_result",
          "data": {
            "text/plain": [
              "       label   text\n",
              "0      False  False\n",
              "1      False  False\n",
              "2      False  False\n",
              "3      False  False\n",
              "4      False  False\n",
              "...      ...    ...\n",
              "99994  False  False\n",
              "99995  False  False\n",
              "99996  False  False\n",
              "99997  False  False\n",
              "99998  False  False\n",
              "\n",
              "[99999 rows x 2 columns]"
            ],
            "text/html": [
              "\n",
              "  <div id=\"df-d08ca4e6-bb53-4afd-9c41-f8415bc4f895\">\n",
              "    <div class=\"colab-df-container\">\n",
              "      <div>\n",
              "<style scoped>\n",
              "    .dataframe tbody tr th:only-of-type {\n",
              "        vertical-align: middle;\n",
              "    }\n",
              "\n",
              "    .dataframe tbody tr th {\n",
              "        vertical-align: top;\n",
              "    }\n",
              "\n",
              "    .dataframe thead th {\n",
              "        text-align: right;\n",
              "    }\n",
              "</style>\n",
              "<table border=\"1\" class=\"dataframe\">\n",
              "  <thead>\n",
              "    <tr style=\"text-align: right;\">\n",
              "      <th></th>\n",
              "      <th>label</th>\n",
              "      <th>text</th>\n",
              "    </tr>\n",
              "  </thead>\n",
              "  <tbody>\n",
              "    <tr>\n",
              "      <th>0</th>\n",
              "      <td>False</td>\n",
              "      <td>False</td>\n",
              "    </tr>\n",
              "    <tr>\n",
              "      <th>1</th>\n",
              "      <td>False</td>\n",
              "      <td>False</td>\n",
              "    </tr>\n",
              "    <tr>\n",
              "      <th>2</th>\n",
              "      <td>False</td>\n",
              "      <td>False</td>\n",
              "    </tr>\n",
              "    <tr>\n",
              "      <th>3</th>\n",
              "      <td>False</td>\n",
              "      <td>False</td>\n",
              "    </tr>\n",
              "    <tr>\n",
              "      <th>4</th>\n",
              "      <td>False</td>\n",
              "      <td>False</td>\n",
              "    </tr>\n",
              "    <tr>\n",
              "      <th>...</th>\n",
              "      <td>...</td>\n",
              "      <td>...</td>\n",
              "    </tr>\n",
              "    <tr>\n",
              "      <th>99994</th>\n",
              "      <td>False</td>\n",
              "      <td>False</td>\n",
              "    </tr>\n",
              "    <tr>\n",
              "      <th>99995</th>\n",
              "      <td>False</td>\n",
              "      <td>False</td>\n",
              "    </tr>\n",
              "    <tr>\n",
              "      <th>99996</th>\n",
              "      <td>False</td>\n",
              "      <td>False</td>\n",
              "    </tr>\n",
              "    <tr>\n",
              "      <th>99997</th>\n",
              "      <td>False</td>\n",
              "      <td>False</td>\n",
              "    </tr>\n",
              "    <tr>\n",
              "      <th>99998</th>\n",
              "      <td>False</td>\n",
              "      <td>False</td>\n",
              "    </tr>\n",
              "  </tbody>\n",
              "</table>\n",
              "<p>99999 rows × 2 columns</p>\n",
              "</div>\n",
              "      <button class=\"colab-df-convert\" onclick=\"convertToInteractive('df-d08ca4e6-bb53-4afd-9c41-f8415bc4f895')\"\n",
              "              title=\"Convert this dataframe to an interactive table.\"\n",
              "              style=\"display:none;\">\n",
              "        \n",
              "  <svg xmlns=\"http://www.w3.org/2000/svg\" height=\"24px\"viewBox=\"0 0 24 24\"\n",
              "       width=\"24px\">\n",
              "    <path d=\"M0 0h24v24H0V0z\" fill=\"none\"/>\n",
              "    <path d=\"M18.56 5.44l.94 2.06.94-2.06 2.06-.94-2.06-.94-.94-2.06-.94 2.06-2.06.94zm-11 1L8.5 8.5l.94-2.06 2.06-.94-2.06-.94L8.5 2.5l-.94 2.06-2.06.94zm10 10l.94 2.06.94-2.06 2.06-.94-2.06-.94-.94-2.06-.94 2.06-2.06.94z\"/><path d=\"M17.41 7.96l-1.37-1.37c-.4-.4-.92-.59-1.43-.59-.52 0-1.04.2-1.43.59L10.3 9.45l-7.72 7.72c-.78.78-.78 2.05 0 2.83L4 21.41c.39.39.9.59 1.41.59.51 0 1.02-.2 1.41-.59l7.78-7.78 2.81-2.81c.8-.78.8-2.07 0-2.86zM5.41 20L4 18.59l7.72-7.72 1.47 1.35L5.41 20z\"/>\n",
              "  </svg>\n",
              "      </button>\n",
              "      \n",
              "  <style>\n",
              "    .colab-df-container {\n",
              "      display:flex;\n",
              "      flex-wrap:wrap;\n",
              "      gap: 12px;\n",
              "    }\n",
              "\n",
              "    .colab-df-convert {\n",
              "      background-color: #E8F0FE;\n",
              "      border: none;\n",
              "      border-radius: 50%;\n",
              "      cursor: pointer;\n",
              "      display: none;\n",
              "      fill: #1967D2;\n",
              "      height: 32px;\n",
              "      padding: 0 0 0 0;\n",
              "      width: 32px;\n",
              "    }\n",
              "\n",
              "    .colab-df-convert:hover {\n",
              "      background-color: #E2EBFA;\n",
              "      box-shadow: 0px 1px 2px rgba(60, 64, 67, 0.3), 0px 1px 3px 1px rgba(60, 64, 67, 0.15);\n",
              "      fill: #174EA6;\n",
              "    }\n",
              "\n",
              "    [theme=dark] .colab-df-convert {\n",
              "      background-color: #3B4455;\n",
              "      fill: #D2E3FC;\n",
              "    }\n",
              "\n",
              "    [theme=dark] .colab-df-convert:hover {\n",
              "      background-color: #434B5C;\n",
              "      box-shadow: 0px 1px 3px 1px rgba(0, 0, 0, 0.15);\n",
              "      filter: drop-shadow(0px 1px 2px rgba(0, 0, 0, 0.3));\n",
              "      fill: #FFFFFF;\n",
              "    }\n",
              "  </style>\n",
              "\n",
              "      <script>\n",
              "        const buttonEl =\n",
              "          document.querySelector('#df-d08ca4e6-bb53-4afd-9c41-f8415bc4f895 button.colab-df-convert');\n",
              "        buttonEl.style.display =\n",
              "          google.colab.kernel.accessAllowed ? 'block' : 'none';\n",
              "\n",
              "        async function convertToInteractive(key) {\n",
              "          const element = document.querySelector('#df-d08ca4e6-bb53-4afd-9c41-f8415bc4f895');\n",
              "          const dataTable =\n",
              "            await google.colab.kernel.invokeFunction('convertToInteractive',\n",
              "                                                     [key], {});\n",
              "          if (!dataTable) return;\n",
              "\n",
              "          const docLinkHtml = 'Like what you see? Visit the ' +\n",
              "            '<a target=\"_blank\" href=https://colab.research.google.com/notebooks/data_table.ipynb>data table notebook</a>'\n",
              "            + ' to learn more about interactive tables.';\n",
              "          element.innerHTML = '';\n",
              "          dataTable['output_type'] = 'display_data';\n",
              "          await google.colab.output.renderOutput(dataTable, element);\n",
              "          const docLink = document.createElement('div');\n",
              "          docLink.innerHTML = docLinkHtml;\n",
              "          element.appendChild(docLink);\n",
              "        }\n",
              "      </script>\n",
              "    </div>\n",
              "  </div>\n",
              "  "
            ]
          },
          "metadata": {},
          "execution_count": 108
        }
      ]
    },
    {
      "cell_type": "code",
      "source": [
        "df.isna().sum()    #checksum of missing values in my file"
      ],
      "metadata": {
        "colab": {
          "base_uri": "https://localhost:8080/"
        },
        "id": "Lg5ND7oQdsug",
        "outputId": "28d4d8f4-4c53-4f25-8b5a-4559e85261b2"
      },
      "execution_count": 109,
      "outputs": [
        {
          "output_type": "execute_result",
          "data": {
            "text/plain": [
              "label    0\n",
              "text     0\n",
              "dtype: int64"
            ]
          },
          "metadata": {},
          "execution_count": 109
        }
      ]
    },
    {
      "cell_type": "code",
      "source": [
        "df['label'].value_counts()"
      ],
      "metadata": {
        "colab": {
          "base_uri": "https://localhost:8080/"
        },
        "id": "CnkZHdtnXllI",
        "outputId": "76ce8cb2-76c8-488a-e1df-9d1f3398feca"
      },
      "execution_count": 110,
      "outputs": [
        {
          "output_type": "execute_result",
          "data": {
            "text/plain": [
              "Positive    33333\n",
              "Mixed       33333\n",
              "Negative    33333\n",
              "Name: label, dtype: int64"
            ]
          },
          "metadata": {},
          "execution_count": 110
        }
      ]
    },
    {
      "cell_type": "code",
      "source": [
        "### convert positive 1 and negative 0\n",
        "df['label']=df['label'].apply(lambda x: 1 if x=='Positive' else 0 )\n",
        "df.head()"
      ],
      "metadata": {
        "id": "Haix-Hvft_Qt",
        "outputId": "908e3acd-a5c3-44b4-ecbb-0f6eda6c3225",
        "colab": {
          "base_uri": "https://localhost:8080/",
          "height": 206
        }
      },
      "execution_count": 111,
      "outputs": [
        {
          "output_type": "execute_result",
          "data": {
            "text/plain": [
              "   label                                               text\n",
              "0      1  ممتاز نوعا ما . النظافة والموقع والتجهيز والشا...\n",
              "1      1  أحد أسباب نجاح الإمارات أن كل شخص في هذه الدول...\n",
              "2      1  هادفة .. وقوية. تنقلك من صخب شوارع القاهرة الى...\n",
              "3      1  خلصنا .. مبدئيا اللي مستني ابهار زي الفيل الاز...\n",
              "4      1  ياسات جلوريا جزء لا يتجزأ من دبي . فندق متكامل..."
            ],
            "text/html": [
              "\n",
              "  <div id=\"df-3dc3bb32-bab5-4d1f-be49-89368bdb0227\">\n",
              "    <div class=\"colab-df-container\">\n",
              "      <div>\n",
              "<style scoped>\n",
              "    .dataframe tbody tr th:only-of-type {\n",
              "        vertical-align: middle;\n",
              "    }\n",
              "\n",
              "    .dataframe tbody tr th {\n",
              "        vertical-align: top;\n",
              "    }\n",
              "\n",
              "    .dataframe thead th {\n",
              "        text-align: right;\n",
              "    }\n",
              "</style>\n",
              "<table border=\"1\" class=\"dataframe\">\n",
              "  <thead>\n",
              "    <tr style=\"text-align: right;\">\n",
              "      <th></th>\n",
              "      <th>label</th>\n",
              "      <th>text</th>\n",
              "    </tr>\n",
              "  </thead>\n",
              "  <tbody>\n",
              "    <tr>\n",
              "      <th>0</th>\n",
              "      <td>1</td>\n",
              "      <td>ممتاز نوعا ما . النظافة والموقع والتجهيز والشا...</td>\n",
              "    </tr>\n",
              "    <tr>\n",
              "      <th>1</th>\n",
              "      <td>1</td>\n",
              "      <td>أحد أسباب نجاح الإمارات أن كل شخص في هذه الدول...</td>\n",
              "    </tr>\n",
              "    <tr>\n",
              "      <th>2</th>\n",
              "      <td>1</td>\n",
              "      <td>هادفة .. وقوية. تنقلك من صخب شوارع القاهرة الى...</td>\n",
              "    </tr>\n",
              "    <tr>\n",
              "      <th>3</th>\n",
              "      <td>1</td>\n",
              "      <td>خلصنا .. مبدئيا اللي مستني ابهار زي الفيل الاز...</td>\n",
              "    </tr>\n",
              "    <tr>\n",
              "      <th>4</th>\n",
              "      <td>1</td>\n",
              "      <td>ياسات جلوريا جزء لا يتجزأ من دبي . فندق متكامل...</td>\n",
              "    </tr>\n",
              "  </tbody>\n",
              "</table>\n",
              "</div>\n",
              "      <button class=\"colab-df-convert\" onclick=\"convertToInteractive('df-3dc3bb32-bab5-4d1f-be49-89368bdb0227')\"\n",
              "              title=\"Convert this dataframe to an interactive table.\"\n",
              "              style=\"display:none;\">\n",
              "        \n",
              "  <svg xmlns=\"http://www.w3.org/2000/svg\" height=\"24px\"viewBox=\"0 0 24 24\"\n",
              "       width=\"24px\">\n",
              "    <path d=\"M0 0h24v24H0V0z\" fill=\"none\"/>\n",
              "    <path d=\"M18.56 5.44l.94 2.06.94-2.06 2.06-.94-2.06-.94-.94-2.06-.94 2.06-2.06.94zm-11 1L8.5 8.5l.94-2.06 2.06-.94-2.06-.94L8.5 2.5l-.94 2.06-2.06.94zm10 10l.94 2.06.94-2.06 2.06-.94-2.06-.94-.94-2.06-.94 2.06-2.06.94z\"/><path d=\"M17.41 7.96l-1.37-1.37c-.4-.4-.92-.59-1.43-.59-.52 0-1.04.2-1.43.59L10.3 9.45l-7.72 7.72c-.78.78-.78 2.05 0 2.83L4 21.41c.39.39.9.59 1.41.59.51 0 1.02-.2 1.41-.59l7.78-7.78 2.81-2.81c.8-.78.8-2.07 0-2.86zM5.41 20L4 18.59l7.72-7.72 1.47 1.35L5.41 20z\"/>\n",
              "  </svg>\n",
              "      </button>\n",
              "      \n",
              "  <style>\n",
              "    .colab-df-container {\n",
              "      display:flex;\n",
              "      flex-wrap:wrap;\n",
              "      gap: 12px;\n",
              "    }\n",
              "\n",
              "    .colab-df-convert {\n",
              "      background-color: #E8F0FE;\n",
              "      border: none;\n",
              "      border-radius: 50%;\n",
              "      cursor: pointer;\n",
              "      display: none;\n",
              "      fill: #1967D2;\n",
              "      height: 32px;\n",
              "      padding: 0 0 0 0;\n",
              "      width: 32px;\n",
              "    }\n",
              "\n",
              "    .colab-df-convert:hover {\n",
              "      background-color: #E2EBFA;\n",
              "      box-shadow: 0px 1px 2px rgba(60, 64, 67, 0.3), 0px 1px 3px 1px rgba(60, 64, 67, 0.15);\n",
              "      fill: #174EA6;\n",
              "    }\n",
              "\n",
              "    [theme=dark] .colab-df-convert {\n",
              "      background-color: #3B4455;\n",
              "      fill: #D2E3FC;\n",
              "    }\n",
              "\n",
              "    [theme=dark] .colab-df-convert:hover {\n",
              "      background-color: #434B5C;\n",
              "      box-shadow: 0px 1px 3px 1px rgba(0, 0, 0, 0.15);\n",
              "      filter: drop-shadow(0px 1px 2px rgba(0, 0, 0, 0.3));\n",
              "      fill: #FFFFFF;\n",
              "    }\n",
              "  </style>\n",
              "\n",
              "      <script>\n",
              "        const buttonEl =\n",
              "          document.querySelector('#df-3dc3bb32-bab5-4d1f-be49-89368bdb0227 button.colab-df-convert');\n",
              "        buttonEl.style.display =\n",
              "          google.colab.kernel.accessAllowed ? 'block' : 'none';\n",
              "\n",
              "        async function convertToInteractive(key) {\n",
              "          const element = document.querySelector('#df-3dc3bb32-bab5-4d1f-be49-89368bdb0227');\n",
              "          const dataTable =\n",
              "            await google.colab.kernel.invokeFunction('convertToInteractive',\n",
              "                                                     [key], {});\n",
              "          if (!dataTable) return;\n",
              "\n",
              "          const docLinkHtml = 'Like what you see? Visit the ' +\n",
              "            '<a target=\"_blank\" href=https://colab.research.google.com/notebooks/data_table.ipynb>data table notebook</a>'\n",
              "            + ' to learn more about interactive tables.';\n",
              "          element.innerHTML = '';\n",
              "          dataTable['output_type'] = 'display_data';\n",
              "          await google.colab.output.renderOutput(dataTable, element);\n",
              "          const docLink = document.createElement('div');\n",
              "          docLink.innerHTML = docLinkHtml;\n",
              "          element.appendChild(docLink);\n",
              "        }\n",
              "      </script>\n",
              "    </div>\n",
              "  </div>\n",
              "  "
            ]
          },
          "metadata": {},
          "execution_count": 111
        }
      ]
    },
    {
      "cell_type": "code",
      "source": [
        "df['label'].value_counts()"
      ],
      "metadata": {
        "colab": {
          "base_uri": "https://localhost:8080/"
        },
        "id": "exnmTlMwZJv2",
        "outputId": "89c3dd2f-dbcf-4837-e526-b7c4e993ffe9"
      },
      "execution_count": 112,
      "outputs": [
        {
          "output_type": "execute_result",
          "data": {
            "text/plain": [
              "0    66666\n",
              "1    33333\n",
              "Name: label, dtype: int64"
            ]
          },
          "metadata": {},
          "execution_count": 112
        }
      ]
    },
    {
      "cell_type": "code",
      "source": [
        "print('total shape after removing mixed label from data ')\n",
        "df.shape"
      ],
      "metadata": {
        "colab": {
          "base_uri": "https://localhost:8080/"
        },
        "id": "-yvGuIRQJ6RU",
        "outputId": "9a7068f4-6a2b-40cc-f843-050243058aaa"
      },
      "execution_count": 113,
      "outputs": [
        {
          "output_type": "stream",
          "name": "stdout",
          "text": [
            "total shape after removing mixed label from data \n"
          ]
        },
        {
          "output_type": "execute_result",
          "data": {
            "text/plain": [
              "(99999, 2)"
            ]
          },
          "metadata": {},
          "execution_count": 113
        }
      ]
    },
    {
      "cell_type": "code",
      "source": [
        "#check on duplicated text\n",
        "m=df.duplicated().sum()\n",
        "m\n",
        "if m==0 :\n",
        "   print(\"all values are unique\")"
      ],
      "metadata": {
        "colab": {
          "base_uri": "https://localhost:8080/"
        },
        "id": "C92Da2K_ZTiN",
        "outputId": "ffed7667-8f56-4e3a-efa4-7b99c2bee825"
      },
      "execution_count": 114,
      "outputs": [
        {
          "output_type": "stream",
          "name": "stdout",
          "text": [
            "all values are unique\n"
          ]
        }
      ]
    },
    {
      "cell_type": "code",
      "source": [
        "import nltk\n",
        "\n",
        "\n",
        "words1=['أ','د','ج','ح','خ','ه','ع','غ','ف','ق','ث','ص','ض','ذ','ش','س','ي','ب'\n",
        ",'ل','ا','ت','ن','م','ك','ط','ظ','ز','و','ة','ى','ر','ؤ','ء','ئ','إنما', 'هؤلاء', 'أربعمئة', 'ى', 'هيّا', 'نحو'\n",
        ", 'كيف', 'جويلية', 'أنا', 'كليهما', 'قام', 'ث' , 'جيم', 'أولئك', 'والذي', 'ولكن', 'عشر', 'ف', 'مايو', 'ع',  'يفعلان'\n",
        ", 'أغسطس', 'عن', 'مما', 'نفس', 'أنتِ', 'بماذا', 'تموز', 'إياكما', 'قطّ', 'حيَّ', 'بات', 'مكانكم', 'ثمانية', 'مع', 'ثمّ', 'هو'\n",
        ", 'درى', 'كاد', 'وهو', 'إيه', 'عدَّ', 'مه', 'إذ', 'ليسوا', 'واحد',  'أين', 'لستما', 'رويدك', 'لها', 'إمّا', 'آب', 'ترك', 'حار'\n",
        ", 'فبراير', 'خمسمائة', 'تسع', 'ظنَّ', 'إليكنّ', 'تينك', 'نون', 'أول', 'على', 'وا', 'كذا', 'انبرى', 'دون', 'لك', 'ذيت', 'ثلاثين'\n",
        ", 'غادر', 'ذِه', 'أعطى', 'لات', 'عليك', 'ثمان', 'ذه', 'وما', 'ذا', 'لولا', 'ثلاث', 'ذ', 'اثنين', 'ثلاثمائة', 'هيت', 'ذانِ'\n",
        ", 'أيا', 'جير', 'عاشر', 'إياك', 'سقى', 'أنت', 'كأنّ', 'كرب', 'سبعمئة', 'وجد', 'فضلا', 'ذِي', 'خمسة', 'أبريل', 'اللذان'\n",
        ", 'تلقاء', 'كأنما', 'كِخ', 'إما', 'ظاء', 'بمن', 'كأيّ', 'سبع', 'أُفٍّ', 'أمسى', 'لا سيما', 'آهٍ', 'بكن', 'نحن', 'هاته', 'ذوا'\n",
        ", 'خاصة', 'ذينك', 'كلَّا', 'بئس', 'إياي', 'هكذا', 'ت', 'خ', 'ثمانمئة', 'هاكَ', 'أخٌ', 'فإن', 'ته', 'سوف', 'إي', 'أربع'\n",
        ", 'قبل', 'هَيْهات', 'خبَّر', 'أولاء', 'حيث', 'ذواتي', 'يمين', 'كما', 'ها', 'ثمنمئة', 'كاف', 'سنتيم', 'أل', 'ستمائة', 'ا', 'أ'\n",
        ", 'مكانَك', 'لكي', 'تلكما', 'عاد', 'الآن', 'ذلكم', 'فيما', 'إليكن', 'ص', 'سبت', 'صاد', 'إياه', 'لهم', 'أعلم', 'تجاه', 'ستين'\n",
        ", 'حاء', 'لكيلا', 'إلى', 'أمامك', 'عشرين', 'ألفى', 'ثلاثة', 'هَذانِ', 'ين', 'بَلْهَ', 'شبه', 'باء', 'هَؤلاء', 'بهما', 'عل', 'فو'\n",
        ", 'أخبر', 'يا', 'صبر', 'تلكم', 'متى', 'أقل', 'بعدا', 'ابتدأ', 'هن', 'أنتن', 'ئ', 'عشرة', 'ماي', 'استحال', 'ذان', 'أيار'\n",
        ", 'مكانكما', 'دواليك', 'عَدَسْ', 'ليست', 'ممن', 'ضاد', 'آ', 'عين', 'هذي', 'ميم', 'صار', 'ما انفك', 'ن', 'اخلولق', 'ألف'\n",
        ", 'رأى', 'أفٍّ', 'تسعمائة', 'لام', 'أخو', 'أخذ', 'ريث', 'حمدا', 'كيت', 'ءَ', 'أبو', 'حَذارِ', 'كيفما', 'كانون', 'ما برح'\n",
        ", 'مارس', 'يوان', 'تشرين', 'غين', 'فاء', 'ما أفعله', 'لستم', 'ياء', 'طالما', 'كان', 'هذان', 'خال', 'هي', 'خاء', 'ذات'\n",
        ", 'ثان', 'هَاتِي', 'لعلَّ', 'و', 'فإذا', 'إليكما', 'هذا', 'واو', 'ج', 'بين', 'مافتئ', 'شيكل', 'عوض', 'إلَيْكَ', 'معاذ', 'لوما'\n",
        ", 'تسعين', 'ذاك', 'بكم', 'ثاء', 'إذن', 'بَسْ', 'شرع', 'سبعة', 'جنيه', 'كأيّن', 'فلان', 'مازال', 'نَّ', 'بكما', 'له', 'إى'\n",
        ", 'عيانا', 'بخٍ', 'نوفمبر', 'ستون', 'لن', 'طاق', 'درهم', 'ثمّة', 'كلتا', 'إياكن', 'ه', 'لهن', 'اللتين', 'التي', 'دولار', 'لنا'\n",
        ", 'ط', 'إيهٍ', 'خمسين', 'ليس', 'تبدّل', 'ذي', 'هاهنا', 'أكتوبر', 'اللائي', 'سبتمبر', 'لدى', 'إياها', 'تاء', 'صبرا', 'راح'\n",
        ", 'مائة', 'آناء', 'تِي', 'في', 'أقبل', 'جعل', 'تعلَّم',  'أرى', 'اللواتي', 'ق', 'واهاً', 'بلى', 'فيها', 'أمّا', 'ثمانون', 'نبَّا'\n",
        ", 'هبّ',  'حبذا', 'أو', 'هم', 'هَذَيْنِ', 'هل', 'آذار', 'منها', 'خميس', 'أهلا', 'نا', 'كذلك', 'لكم', 'خلافا', 'أنشأ', 'ديسمبر'\n",
        ", 'سبعين', 'شتان', 'ذلكما', 'إليكم', 'لو', 'من', 'تِه', 'صهٍ', 'عسى', 'هلا', 'تسعون', 'هَاتِه', 'فيه', 'أمد', 'هَاتانِ', 'إن'\n",
        ", 'ذهب', 'ليت', 'شين', 'ل', 'هاك', 'جميع', 'هَجْ', 'أمام', 'غ', 'ذانك', 'عشرون', 'كلاهما', 'سرا', 'ح', 'سرعان'\n",
        ", 'رزق', 'علم', 'ساء', 'خمس', 'إليك', 'يونيو', 'حسب', 'منذ', 'أيلول', 'لاسيما', 'ء', 'سابع', 'أربعاء', 'فلس', 'زاي'\n",
        ", 'حرى', 'بي', 'قرش', 'زود', 'نعم', 'يورو', 'اللاتي', 'لستن', 'منه', 'حدَث', 'صراحة', 'رابع', 'ظ', 'أجل', 'أى'\n",
        ", 'هلّا', 'كأي', 'حجا', 'لسن', 'هَذِي', 'سوى', 'أنتما', 'دونك', 'طرا', 'به', 'أيها', 'سادس', 'مثل', 'وإن', 'أنتم'\n",
        ", 'أما', 'بك', 'إنَّ', 'زعم', 'لكن', 'تفعلين', 'ما', 'لما', 'آمينَ', 'يوليو', 'جوان', 'أنى', 'تانِ', 'س', 'كى', 'إذا'\n",
        ", 'ر', 'تخذ', 'ثاني', 'حادي', 'قد', 'بس', 'غالبا', 'كلما', 'بهم', 'حتى', 'أم', 'أربعة', 'تلك', 'اثني', 'أف', 'تي'\n",
        ", 'قاطبة', 'هذين', 'كأين', 'هنا', 'همزة', 'خلا', 'ست', 'أيّان', 'شمال', 'إذما', 'ثمانين', 'تحت', 'هذه', 'نَخْ', 'بعض'\n",
        ", 'ظلّ', 'خامس', 'فمن', 'أبٌ', 'وإذ', 'شتانَ', 'غير', 'لئن', 'أمس', 'إليكَ', 'كل', 'اللتيا', 'مهما', 'خمسون', 'أيّ', 'ذو'\n",
        ", 'اربعين', 'بما', 'قاف', 'ز', 'ؤ', 'ضحوة', 'غداة', 'وراءَك', 'رجع', 'راء', 'بضع', 'أوه', 'بل', 'بسّ', 'تين', 'ثامن'\n",
        ", 'أمامكَ', 'إنا', 'سبحان', 'علق', 'تفعلان', 'مساء', 'بهن', 'حاي', 'جلل', 'وإذا', 'أجمع', 'ذلك', 'عجبا', 'ب', 'بيد'\n",
        ", 'ليستا', 'بعد', 'أضحى', 'مليم', 'الذين', 'اثنا', 'أصلا', 'ومن', 'ذَيْنِ', 'تعسا', 'أولالك', 'سين', 'كلا', 'لست'\n",
        ", 'عامة', 'كليكما', 'هَذِه', 'آهاً', 'ثمة', 'حاشا', 'أنبأ', 'اثنان', 'دينار', 'علًّ', 'ولو', 'إذاً', 'لعمر', 'تحوّل'\n",
        ", 'لكنما', 'فيم', 'حمٌ', 'ّأيّان', 'حيثما', 'ليرة', 'آض', 'هاء', 'كم', 'اتخذ', 'الذي', 'انقلب', 'يفعلون',  'ثلاثاء'\n",
        ", 'خمسمئة', 'عدا', 'هناك', 'اربعون', 'أنّى', 'ماذا', 'طاء',  'مرّة'\n",
        ", 'هَذا', 'ثالث', 'إحدى', 'آهِ', 'وَيْ', 'مئتان', 'كثيرا', 'آي'\n",
        ", 'مذ', 'نيف', 'شَتَّانَ', 'قلما', 'أصبح', 'أسكن', 'الألى', 'يناير'\n",
        ", 'صباح', 'ذواتا', 'ارتدّ', 'سبعون', 'غدا', 'إياهم', 'دال', 'فيفري'\n",
        ", 'مادام', 'لمّا', 'رُبَّ', 'ريال', 'لي', 'شباط', 'ورد', 'نيسان'\n",
        ", 'سبعمائة', 'ذال', 'خلف', 'هما', 'ستمئة', 'أيضا', 'فرادى', \n",
        "'تارة', 'والذين', 'آه', 'مكانكنّ', 'طَق', 'أفعل به', 'بنا', 'إيانا'\n",
        ", 'ة', 'لعل', 'لكنَّ', 'اللذين', 'هللة', 'أوت', 'جمعة', 'إياكم', 'أوّهْ'\n",
        ", 'كلّما', 'د', 'فوق', 'أي', 'لكما', 'ش', 'إنه', 'حزيران', 'الألاء'\n",
        ", 'جانفي', 'بها', 'هاتي', 'تَيْنِ', 'عند', 'لهما', 'بغتة', 'عليه', 'ذلكن', 'ثمَّ'\n",
        ", 'أينما', 'اللتان', 'كأن', 'بخ', 'هلم', 'كسا', 'تسعمئة', 'هيا', 'هيهات'\n",
        ", 'م', 'هنالك', 'بطآن', 'طفق', 'حقا', 'حين', 'أفريل', 'أربعمائة', 'حمو'\n",
        ", 'مئة', 'كي', 'لدن', 'إزاء', 'عما', 'تانِك', 'آنفا', 'ثلاثمئة', 'أكثر'\n",
        ", 'أوشك', 'إياهما', 'وهب', 'آها', 'لبيك', 'هاتين', 'تسعة', 'هَاتَيْنِ'\n",
        ", 'أنًّ', 'وُشْكَانَ', 'سحقا', 'ك', 'صهْ', 'ثم', 'سمعا', 'ض'\n",
        ", 'ي', 'صدقا', 'ثماني', 'ثلاثون', 'تفعلون', 'بؤسا', 'هاتان'\n",
        ", 'إياهن', 'ذين', 'ستة', 'أن', 'لسنا', 'تاسع', 'كن', 'أحد']\n",
        "\n",
        "words2= ['آمين', 'أب', 'أخ', 'أفعل', 'أفعله', 'ؤلاء', 'إل', 'إم'\n",
        ", 'ات', 'اتان', 'ارتد', 'ان', 'انفك', 'برح', 'تان', 'تبد', 'تحو', 'تعل'\n",
        ", 'حد', 'حم', 'حي', 'خب', 'ذار', 'سيما', 'صه', 'ظل', 'ظن', 'عد'\n",
        ", 'قط', 'لا', 'لم', 'مر', 'مكان', 'مكانكن', 'نب', 'هات', 'هب', 'واها'\n",
        ", 'وراء' , 'أيان','يان', 'بله', 'تانك', 'تبدل', 'تحول', 'تعلم', 'حدث', 'حذار', 'خبر', 'رب', 'طق', 'عدس', 'كخ', 'مرة', 'مكانك', 'نبا', 'نخ', 'هج', 'وراءك', 'وشكان', 'وي']\n",
        "\n",
        "stopwords =words1 + words2\n",
        "\n",
        "stop_word = list(set(stopwords))        #make stop unique\n",
        "\n",
        "\n",
        "\n",
        "\n",
        "print(\"-------------------------------------------------------------------------------------------------------------------------------------------------------------------------------------------------------------------------------------------------------------------------------------------------------------------------------------------------------------------------------------------------\")\n",
        "print('stop_words shape is ',len(stopwords))\n",
        "print('stop_words shape without duplicated words ',len(stop_word))"
      ],
      "metadata": {
        "colab": {
          "base_uri": "https://localhost:8080/"
        },
        "id": "Pc5PN996aYi1",
        "outputId": "757f037b-653a-4ac6-ddd7-57440e36716d"
      },
      "execution_count": 115,
      "outputs": [
        {
          "output_type": "stream",
          "name": "stdout",
          "text": [
            "-------------------------------------------------------------------------------------------------------------------------------------------------------------------------------------------------------------------------------------------------------------------------------------------------------------------------------------------------------------------------------------------------\n",
            "stop_words shape is  785\n",
            "stop_words shape without duplicated words  751\n"
          ]
        }
      ]
    },
    {
      "cell_type": "code",
      "source": [
        "import re\n",
        "import string\n",
        "import sys\n",
        "import argparse\n",
        "from nltk.tokenize import word_tokenize\n",
        "\n",
        "arabic_punctuations = '''`÷×~؛<>_()*&^%][ـ،/:\"؟.,'{}~¦+|!”…“–ـ'''\n",
        "english_punctuations = string.punctuation\n",
        "punctuations = arabic_punctuations + english_punctuations\n",
        "punctuations"
      ],
      "metadata": {
        "colab": {
          "base_uri": "https://localhost:8080/",
          "height": 35
        },
        "id": "FfeH4Y1iaiQN",
        "outputId": "e5793e75-1ef5-45bf-985b-a9ab262a64d0"
      },
      "execution_count": 116,
      "outputs": [
        {
          "output_type": "execute_result",
          "data": {
            "text/plain": [
              "'`÷×~؛<>_()*&^%][ـ،/:\"؟.,\\'{}~¦+|!”…“–ـ!\"#$%&\\'()*+,-./:;<=>?@[\\\\]^_`{|}~'"
            ],
            "application/vnd.google.colaboratory.intrinsic+json": {
              "type": "string"
            }
          },
          "metadata": {},
          "execution_count": 116
        }
      ]
    },
    {
      "cell_type": "code",
      "source": [
        "def remove_diacritics(text):\n",
        "    arabic_diacritics = re.compile(\"\"\" ّ    | # Tashdid\n",
        "                             َ    | # Fatha\n",
        "                             ً    | # Tanwin Fath\n",
        "                             ُ    | # Damma\n",
        "                             ٌ    | # Tanwin Damm\n",
        "                             ِ    | # Kasra\n",
        "                             ٍ    | # Tanwin Kasr\n",
        "                             ْ    | # Sukun\n",
        "                             ـ     # Tatwil/Kashida\n",
        "                         \"\"\", re.VERBOSE)\n",
        "    text = re.sub(arabic_diacritics, '', str(text))\n",
        "    return text"
      ],
      "metadata": {
        "id": "xgSJ3PsPaYpL"
      },
      "execution_count": 117,
      "outputs": []
    },
    {
      "cell_type": "code",
      "source": [
        "from nltk.stem import WordNetLemmatizer\n",
        "\n",
        "def process_text(text):\n",
        "\n",
        "    stemmer = WordNetLemmatizer()\n",
        "    word_list = nltk.word_tokenize(text)\n",
        "    #stemming\n",
        "    word_list = [stemmer.lemmatize(word) for word  in  word_list]\n",
        "    return ' '.join(word_list) "
      ],
      "metadata": {
        "id": "piZ3qhDnbPVj"
      },
      "execution_count": 118,
      "outputs": []
    },
    {
      "cell_type": "code",
      "source": [
        "def preprocessing(text):\n",
        "  \n",
        "    text = \"\".join([word for word in text if word not in string.punctuation])\n",
        "    text = process_text(text)\n",
        "    text = remove_diacritics(text)\n",
        "    tokens = word_tokenize(text)\n",
        "    text = ' '.join([word for word in tokens if word not in stop_word])\n",
        "    return text"
      ],
      "metadata": {
        "id": "JJ6JuKe8aYsI"
      },
      "execution_count": 119,
      "outputs": []
    },
    {
      "cell_type": "code",
      "source": [
        "for i in range(0,5):\n",
        "  m= preprocessing(df['text'][i])\n",
        "  print(i, \")\", m, end='\\n')"
      ],
      "metadata": {
        "colab": {
          "base_uri": "https://localhost:8080/"
        },
        "id": "UODxlhfWaqQg",
        "outputId": "4a6b54de-8200-4d00-9bc5-61d636a5b151"
      },
      "execution_count": 120,
      "outputs": [
        {
          "output_type": "stream",
          "name": "stdout",
          "text": [
            "0 ) ممتاز نوعا النظافة والموقع والتجهيز والشاطيء المطعم\n",
            "1 ) أسباب نجاح الإمارات شخص الدولة يعشق ترابها نحب الإمارات ومضات فكر نصائح لدولة تطمح بالصفوف الأولى قائد يقبل إلا براحة شعبه وتوفر سب العيش الكريم حكم مواقف ونصائح لكل فرد فينا بمجرد كتاب سياسي كنت اعتقد يستحق القراءة مرات كثيرة\n",
            "2 ) هادفة وقوية تنقلك صخب شوارع القاهرة الى هدوء جبال الشيشان للتعرف حقيقة يجرى فى البلاد حروب ضاربة بحق المسلمين جزء كبير تاريخ المنطقة التضحية الرجولة الوفاء والكثير القيم الأخرى اثبتت وجودها فى الرواية البسيطة\n",
            "3 ) خلصنا مبدئيا اللي مستني ابهار زي الفيل الازرق ميقراش احسن احمد مراد تخطى مرحلة القارئ يخلص الرواية فاتح بؤه لمرحلة القارئ يخلص الرواية محترم الكاتب اتقان مخيف بصرف النظر اخطاء تذكر الحوار انما احمد مراد سافر عاش حبة اوائل القرن العشرين وجه ياخدنا لهناك خلطة مشاعر انسانية حقيقية لدرجة غريبة دراما نقلته كاتب شاب بيستعرض لصنايعي حقيقي تثق سيكتب كده ربط مصر ومصر سنة هيطمنك عجينة الناس دي متغيرتش زي عدت كده هتعدي اي ازمة دلوقتي احمد مراد كاتب محترف شغال بضميييررر بكل تحمل الكلمة معنى\n",
            "4 ) ياسات جلوريا جزء يتجزأ دبي فندق متكامل الخدمات مريح نفسيا يوجد\n"
          ]
        }
      ]
    },
    {
      "cell_type": "code",
      "source": [
        "nltk.download('omw-1.4')\n",
        "X =df['text']\t\n",
        "Y =df['label']\t\n",
        "\n",
        "#delete stopwords and most frequent words and less used words\n",
        "tfidfconverter= TfidfVectorizer( min_df=4, max_df=0.9, stop_words=stop_word, preprocessor=preprocessing)\n",
        "X_Vec = tfidfconverter.fit_transform(X)\n",
        "X_Vec = pd.DataFrame.sparse.from_spmatrix(X_Vec)\n",
        "\n",
        "print(f'The old shape for X is {X.shape}')\n",
        "print(f'The new shape for X is {X_Vec.shape}')\n",
        "X_Vec.head()\n"
      ],
      "metadata": {
        "colab": {
          "base_uri": "https://localhost:8080/",
          "height": 308
        },
        "id": "XQHHwV4YbPYV",
        "outputId": "8cfbdc1b-4580-41ef-d74f-b278f5de27d0"
      },
      "execution_count": 121,
      "outputs": [
        {
          "output_type": "stream",
          "name": "stderr",
          "text": [
            "[nltk_data] Downloading package omw-1.4 to /root/nltk_data...\n",
            "[nltk_data]   Package omw-1.4 is already up-to-date!\n"
          ]
        },
        {
          "output_type": "stream",
          "name": "stdout",
          "text": [
            "The old shape for X is (99999,)\n",
            "The new shape for X is (99999, 78867)\n"
          ]
        },
        {
          "output_type": "execute_result",
          "data": {
            "text/plain": [
              "   0      1      2      3      4      5      6      7      8      9      ...  \\\n",
              "0    0.0    0.0    0.0    0.0    0.0    0.0    0.0    0.0    0.0    0.0  ...   \n",
              "1    0.0    0.0    0.0    0.0    0.0    0.0    0.0    0.0    0.0    0.0  ...   \n",
              "2    0.0    0.0    0.0    0.0    0.0    0.0    0.0    0.0    0.0    0.0  ...   \n",
              "3    0.0    0.0    0.0    0.0    0.0    0.0    0.0    0.0    0.0    0.0  ...   \n",
              "4    0.0    0.0    0.0    0.0    0.0    0.0    0.0    0.0    0.0    0.0  ...   \n",
              "\n",
              "   78857  78858  78859  78860  78861  78862  78863  78864  78865  78866  \n",
              "0    0.0    0.0    0.0    0.0    0.0    0.0    0.0    0.0    0.0    0.0  \n",
              "1    0.0    0.0    0.0    0.0    0.0    0.0    0.0    0.0    0.0    0.0  \n",
              "2    0.0    0.0    0.0    0.0    0.0    0.0    0.0    0.0    0.0    0.0  \n",
              "3    0.0    0.0    0.0    0.0    0.0    0.0    0.0    0.0    0.0    0.0  \n",
              "4    0.0    0.0    0.0    0.0    0.0    0.0    0.0    0.0    0.0    0.0  \n",
              "\n",
              "[5 rows x 78867 columns]"
            ],
            "text/html": [
              "\n",
              "  <div id=\"df-e156bc12-c2e9-4679-b631-edf14934b67e\">\n",
              "    <div class=\"colab-df-container\">\n",
              "      <div>\n",
              "<style scoped>\n",
              "    .dataframe tbody tr th:only-of-type {\n",
              "        vertical-align: middle;\n",
              "    }\n",
              "\n",
              "    .dataframe tbody tr th {\n",
              "        vertical-align: top;\n",
              "    }\n",
              "\n",
              "    .dataframe thead th {\n",
              "        text-align: right;\n",
              "    }\n",
              "</style>\n",
              "<table border=\"1\" class=\"dataframe\">\n",
              "  <thead>\n",
              "    <tr style=\"text-align: right;\">\n",
              "      <th></th>\n",
              "      <th>0</th>\n",
              "      <th>1</th>\n",
              "      <th>2</th>\n",
              "      <th>3</th>\n",
              "      <th>4</th>\n",
              "      <th>5</th>\n",
              "      <th>6</th>\n",
              "      <th>7</th>\n",
              "      <th>8</th>\n",
              "      <th>9</th>\n",
              "      <th>...</th>\n",
              "      <th>78857</th>\n",
              "      <th>78858</th>\n",
              "      <th>78859</th>\n",
              "      <th>78860</th>\n",
              "      <th>78861</th>\n",
              "      <th>78862</th>\n",
              "      <th>78863</th>\n",
              "      <th>78864</th>\n",
              "      <th>78865</th>\n",
              "      <th>78866</th>\n",
              "    </tr>\n",
              "  </thead>\n",
              "  <tbody>\n",
              "    <tr>\n",
              "      <th>0</th>\n",
              "      <td>0.0</td>\n",
              "      <td>0.0</td>\n",
              "      <td>0.0</td>\n",
              "      <td>0.0</td>\n",
              "      <td>0.0</td>\n",
              "      <td>0.0</td>\n",
              "      <td>0.0</td>\n",
              "      <td>0.0</td>\n",
              "      <td>0.0</td>\n",
              "      <td>0.0</td>\n",
              "      <td>...</td>\n",
              "      <td>0.0</td>\n",
              "      <td>0.0</td>\n",
              "      <td>0.0</td>\n",
              "      <td>0.0</td>\n",
              "      <td>0.0</td>\n",
              "      <td>0.0</td>\n",
              "      <td>0.0</td>\n",
              "      <td>0.0</td>\n",
              "      <td>0.0</td>\n",
              "      <td>0.0</td>\n",
              "    </tr>\n",
              "    <tr>\n",
              "      <th>1</th>\n",
              "      <td>0.0</td>\n",
              "      <td>0.0</td>\n",
              "      <td>0.0</td>\n",
              "      <td>0.0</td>\n",
              "      <td>0.0</td>\n",
              "      <td>0.0</td>\n",
              "      <td>0.0</td>\n",
              "      <td>0.0</td>\n",
              "      <td>0.0</td>\n",
              "      <td>0.0</td>\n",
              "      <td>...</td>\n",
              "      <td>0.0</td>\n",
              "      <td>0.0</td>\n",
              "      <td>0.0</td>\n",
              "      <td>0.0</td>\n",
              "      <td>0.0</td>\n",
              "      <td>0.0</td>\n",
              "      <td>0.0</td>\n",
              "      <td>0.0</td>\n",
              "      <td>0.0</td>\n",
              "      <td>0.0</td>\n",
              "    </tr>\n",
              "    <tr>\n",
              "      <th>2</th>\n",
              "      <td>0.0</td>\n",
              "      <td>0.0</td>\n",
              "      <td>0.0</td>\n",
              "      <td>0.0</td>\n",
              "      <td>0.0</td>\n",
              "      <td>0.0</td>\n",
              "      <td>0.0</td>\n",
              "      <td>0.0</td>\n",
              "      <td>0.0</td>\n",
              "      <td>0.0</td>\n",
              "      <td>...</td>\n",
              "      <td>0.0</td>\n",
              "      <td>0.0</td>\n",
              "      <td>0.0</td>\n",
              "      <td>0.0</td>\n",
              "      <td>0.0</td>\n",
              "      <td>0.0</td>\n",
              "      <td>0.0</td>\n",
              "      <td>0.0</td>\n",
              "      <td>0.0</td>\n",
              "      <td>0.0</td>\n",
              "    </tr>\n",
              "    <tr>\n",
              "      <th>3</th>\n",
              "      <td>0.0</td>\n",
              "      <td>0.0</td>\n",
              "      <td>0.0</td>\n",
              "      <td>0.0</td>\n",
              "      <td>0.0</td>\n",
              "      <td>0.0</td>\n",
              "      <td>0.0</td>\n",
              "      <td>0.0</td>\n",
              "      <td>0.0</td>\n",
              "      <td>0.0</td>\n",
              "      <td>...</td>\n",
              "      <td>0.0</td>\n",
              "      <td>0.0</td>\n",
              "      <td>0.0</td>\n",
              "      <td>0.0</td>\n",
              "      <td>0.0</td>\n",
              "      <td>0.0</td>\n",
              "      <td>0.0</td>\n",
              "      <td>0.0</td>\n",
              "      <td>0.0</td>\n",
              "      <td>0.0</td>\n",
              "    </tr>\n",
              "    <tr>\n",
              "      <th>4</th>\n",
              "      <td>0.0</td>\n",
              "      <td>0.0</td>\n",
              "      <td>0.0</td>\n",
              "      <td>0.0</td>\n",
              "      <td>0.0</td>\n",
              "      <td>0.0</td>\n",
              "      <td>0.0</td>\n",
              "      <td>0.0</td>\n",
              "      <td>0.0</td>\n",
              "      <td>0.0</td>\n",
              "      <td>...</td>\n",
              "      <td>0.0</td>\n",
              "      <td>0.0</td>\n",
              "      <td>0.0</td>\n",
              "      <td>0.0</td>\n",
              "      <td>0.0</td>\n",
              "      <td>0.0</td>\n",
              "      <td>0.0</td>\n",
              "      <td>0.0</td>\n",
              "      <td>0.0</td>\n",
              "      <td>0.0</td>\n",
              "    </tr>\n",
              "  </tbody>\n",
              "</table>\n",
              "<p>5 rows × 78867 columns</p>\n",
              "</div>\n",
              "      <button class=\"colab-df-convert\" onclick=\"convertToInteractive('df-e156bc12-c2e9-4679-b631-edf14934b67e')\"\n",
              "              title=\"Convert this dataframe to an interactive table.\"\n",
              "              style=\"display:none;\">\n",
              "        \n",
              "  <svg xmlns=\"http://www.w3.org/2000/svg\" height=\"24px\"viewBox=\"0 0 24 24\"\n",
              "       width=\"24px\">\n",
              "    <path d=\"M0 0h24v24H0V0z\" fill=\"none\"/>\n",
              "    <path d=\"M18.56 5.44l.94 2.06.94-2.06 2.06-.94-2.06-.94-.94-2.06-.94 2.06-2.06.94zm-11 1L8.5 8.5l.94-2.06 2.06-.94-2.06-.94L8.5 2.5l-.94 2.06-2.06.94zm10 10l.94 2.06.94-2.06 2.06-.94-2.06-.94-.94-2.06-.94 2.06-2.06.94z\"/><path d=\"M17.41 7.96l-1.37-1.37c-.4-.4-.92-.59-1.43-.59-.52 0-1.04.2-1.43.59L10.3 9.45l-7.72 7.72c-.78.78-.78 2.05 0 2.83L4 21.41c.39.39.9.59 1.41.59.51 0 1.02-.2 1.41-.59l7.78-7.78 2.81-2.81c.8-.78.8-2.07 0-2.86zM5.41 20L4 18.59l7.72-7.72 1.47 1.35L5.41 20z\"/>\n",
              "  </svg>\n",
              "      </button>\n",
              "      \n",
              "  <style>\n",
              "    .colab-df-container {\n",
              "      display:flex;\n",
              "      flex-wrap:wrap;\n",
              "      gap: 12px;\n",
              "    }\n",
              "\n",
              "    .colab-df-convert {\n",
              "      background-color: #E8F0FE;\n",
              "      border: none;\n",
              "      border-radius: 50%;\n",
              "      cursor: pointer;\n",
              "      display: none;\n",
              "      fill: #1967D2;\n",
              "      height: 32px;\n",
              "      padding: 0 0 0 0;\n",
              "      width: 32px;\n",
              "    }\n",
              "\n",
              "    .colab-df-convert:hover {\n",
              "      background-color: #E2EBFA;\n",
              "      box-shadow: 0px 1px 2px rgba(60, 64, 67, 0.3), 0px 1px 3px 1px rgba(60, 64, 67, 0.15);\n",
              "      fill: #174EA6;\n",
              "    }\n",
              "\n",
              "    [theme=dark] .colab-df-convert {\n",
              "      background-color: #3B4455;\n",
              "      fill: #D2E3FC;\n",
              "    }\n",
              "\n",
              "    [theme=dark] .colab-df-convert:hover {\n",
              "      background-color: #434B5C;\n",
              "      box-shadow: 0px 1px 3px 1px rgba(0, 0, 0, 0.15);\n",
              "      filter: drop-shadow(0px 1px 2px rgba(0, 0, 0, 0.3));\n",
              "      fill: #FFFFFF;\n",
              "    }\n",
              "  </style>\n",
              "\n",
              "      <script>\n",
              "        const buttonEl =\n",
              "          document.querySelector('#df-e156bc12-c2e9-4679-b631-edf14934b67e button.colab-df-convert');\n",
              "        buttonEl.style.display =\n",
              "          google.colab.kernel.accessAllowed ? 'block' : 'none';\n",
              "\n",
              "        async function convertToInteractive(key) {\n",
              "          const element = document.querySelector('#df-e156bc12-c2e9-4679-b631-edf14934b67e');\n",
              "          const dataTable =\n",
              "            await google.colab.kernel.invokeFunction('convertToInteractive',\n",
              "                                                     [key], {});\n",
              "          if (!dataTable) return;\n",
              "\n",
              "          const docLinkHtml = 'Like what you see? Visit the ' +\n",
              "            '<a target=\"_blank\" href=https://colab.research.google.com/notebooks/data_table.ipynb>data table notebook</a>'\n",
              "            + ' to learn more about interactive tables.';\n",
              "          element.innerHTML = '';\n",
              "          dataTable['output_type'] = 'display_data';\n",
              "          await google.colab.output.renderOutput(dataTable, element);\n",
              "          const docLink = document.createElement('div');\n",
              "          docLink.innerHTML = docLinkHtml;\n",
              "          element.appendChild(docLink);\n",
              "        }\n",
              "      </script>\n",
              "    </div>\n",
              "  </div>\n",
              "  "
            ]
          },
          "metadata": {},
          "execution_count": 121
        }
      ]
    },
    {
      "cell_type": "code",
      "source": [
        "from sklearn.model_selection import train_test_split\n",
        "X_train, X_test, y_train, y_test = train_test_split(X, Y, test_size=0.33, random_state=42)"
      ],
      "metadata": {
        "id": "sUCWhE7cccZm"
      },
      "execution_count": 122,
      "outputs": []
    },
    {
      "cell_type": "code",
      "source": [
        "X_train_tfidf = tfidfconverter.fit_transform(X_train) \n",
        "X_test_tfidf = tfidfconverter.fit_transform(X_test) \n",
        "print(X_train_tfidf.shape)\n",
        "print(X_test_tfidf.shape)"
      ],
      "metadata": {
        "colab": {
          "base_uri": "https://localhost:8080/"
        },
        "id": "FIihNz8edONp",
        "outputId": "ff8a2c85-909f-48f7-caae-e616ff356f4b"
      },
      "execution_count": 123,
      "outputs": [
        {
          "output_type": "stream",
          "name": "stdout",
          "text": [
            "(66999, 60723)\n",
            "(33000, 37048)\n"
          ]
        }
      ]
    },
    {
      "cell_type": "code",
      "source": [
        "from sklearn.svm import LinearSVC\n",
        "clf = LinearSVC()\n",
        "clf.fit(X_train_tfidf,y_train)"
      ],
      "metadata": {
        "colab": {
          "base_uri": "https://localhost:8080/"
        },
        "id": "UT_1d_TEg_5_",
        "outputId": "db5ea0b5-61c8-4784-dff2-4f9d8f365fed"
      },
      "execution_count": 124,
      "outputs": [
        {
          "output_type": "execute_result",
          "data": {
            "text/plain": [
              "LinearSVC()"
            ]
          },
          "metadata": {},
          "execution_count": 124
        }
      ]
    },
    {
      "cell_type": "code",
      "source": [
        "from sklearn.pipeline import Pipeline\n",
        "text_clf = Pipeline([('tfidf', TfidfVectorizer()),\n",
        "                     ('clf', LinearSVC()),])\n",
        "\n",
        "\n",
        "text_clf.fit(X_train, y_train)  \n",
        "\n",
        "\n",
        "predictions = text_clf.predict(X_test)"
      ],
      "metadata": {
        "id": "hG-E3XDIg6Ve"
      },
      "execution_count": 125,
      "outputs": []
    },
    {
      "cell_type": "code",
      "source": [
        "\n",
        "\n",
        "from sklearn import metrics\n",
        "print(metrics.confusion_matrix(y_test,predictions))\n",
        "\n"
      ],
      "metadata": {
        "colab": {
          "base_uri": "https://localhost:8080/"
        },
        "id": "hpMsmzjjhPl5",
        "outputId": "a879497e-630e-44e8-a7bc-91aed0efbb19"
      },
      "execution_count": 126,
      "outputs": [
        {
          "output_type": "stream",
          "name": "stdout",
          "text": [
            "[[19382  2685]\n",
            " [ 3902  7031]]\n"
          ]
        }
      ]
    },
    {
      "cell_type": "code",
      "source": [
        "print(metrics.classification_report(y_test,predictions)) "
      ],
      "metadata": {
        "colab": {
          "base_uri": "https://localhost:8080/"
        },
        "id": "Vjv2aEt5hU3U",
        "outputId": "1dc566ed-39a1-42f1-d125-1abc9d0a2f26"
      },
      "execution_count": 127,
      "outputs": [
        {
          "output_type": "stream",
          "name": "stdout",
          "text": [
            "              precision    recall  f1-score   support\n",
            "\n",
            "           0       0.83      0.88      0.85     22067\n",
            "           1       0.72      0.64      0.68     10933\n",
            "\n",
            "    accuracy                           0.80     33000\n",
            "   macro avg       0.78      0.76      0.77     33000\n",
            "weighted avg       0.80      0.80      0.80     33000\n",
            "\n"
          ]
        }
      ]
    },
    {
      "cell_type": "code",
      "source": [
        "print(metrics.accuracy_score(y_test,predictions))"
      ],
      "metadata": {
        "colab": {
          "base_uri": "https://localhost:8080/"
        },
        "id": "S1EAy2-khZLF",
        "outputId": "e4c56786-e352-4e54-ce9b-d314afe7cbe0"
      },
      "execution_count": 128,
      "outputs": [
        {
          "output_type": "stream",
          "name": "stdout",
          "text": [
            "0.8003939393939394\n"
          ]
        }
      ]
    }
  ]
}